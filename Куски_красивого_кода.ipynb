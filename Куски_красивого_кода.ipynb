{
  "nbformat": 4,
  "nbformat_minor": 0,
  "metadata": {
    "colab": {
      "provenance": [],
      "authorship_tag": "ABX9TyMQJxLiZ9Omxrw1voNoK9VC",
      "include_colab_link": true
    },
    "kernelspec": {
      "name": "python3",
      "display_name": "Python 3"
    },
    "language_info": {
      "name": "python"
    }
  },
  "cells": [
    {
      "cell_type": "markdown",
      "metadata": {
        "id": "view-in-github",
        "colab_type": "text"
      },
      "source": [
        "<a href=\"https://colab.research.google.com/github/Goldmanitu/aiuniversity/blob/beautiful_code/%D0%9A%D1%83%D1%81%D0%BA%D0%B8_%D0%BA%D1%80%D0%B0%D1%81%D0%B8%D0%B2%D0%BE%D0%B3%D0%BE_%D0%BA%D0%BE%D0%B4%D0%B0.ipynb\" target=\"_parent\"><img src=\"https://colab.research.google.com/assets/colab-badge.svg\" alt=\"Open In Colab\"/></a>"
      ]
    },
    {
      "cell_type": "code",
      "execution_count": 1,
      "metadata": {
        "colab": {
          "base_uri": "https://localhost:8080/"
        },
        "id": "VME0U1gpQtLa",
        "outputId": "2fc3c364-a6c4-42b7-f930-f50ef2572b23"
      },
      "outputs": [
        {
          "output_type": "stream",
          "name": "stdout",
          "text": [
            "Введите любое число, пожалуйста: 8\n",
            "8\n",
            "<class 'str'>\n",
            "8.0 <class 'float'>\n",
            "f_number*3= 24.0\n"
          ]
        }
      ],
      "source": [
        "some_value = input('Введите любое число, пожалуйста: ')  # Запись введенной информации\n",
        "                                                        # в переменную, на выходе тип str (строка)\n",
        "print(some_value)\n",
        "print(type(some_value))\n",
        "\n",
        "f_number = float(some_value)\n",
        "print(f_number, type(f_number))\n",
        "\n",
        "print(\"f_number*3=\", f_number*3)"
      ]
    },
    {
      "cell_type": "code",
      "source": [
        "name1 = input('Введите 1 марку автомобиля - ')\n",
        "name2 = input('Введите 2 марку автомобиля - ')\n",
        "name3 = input('Введите 3 марку автомобиля - ')\n",
        "\n",
        "print(name1, name2, name3)"
      ],
      "metadata": {
        "colab": {
          "base_uri": "https://localhost:8080/"
        },
        "id": "iQAw6BSbQ4PN",
        "outputId": "4636b6c5-13f7-454c-f956-17adb251b99a"
      },
      "execution_count": 2,
      "outputs": [
        {
          "output_type": "stream",
          "name": "stdout",
          "text": [
            "Введите 1 марку автомобиля - bmw\n",
            "Введите 2 марку автомобиля - gaz\n",
            "Введите 3 марку автомобиля - maz\n",
            "bmw gaz maz\n"
          ]
        }
      ]
    },
    {
      "cell_type": "code",
      "source": [
        "# ваше решение\n",
        "number_km = input('Введите расстояние до работы в километрах =  ')\n",
        "answer = f'Расстояние до работы {float(number_km)/1.6} миль'\n",
        "print(answer)\n"
      ],
      "metadata": {
        "colab": {
          "base_uri": "https://localhost:8080/"
        },
        "id": "nPg2TIDsQ8Bv",
        "outputId": "0ce9f060-8eb8-4e45-df57-d6921b977f1c"
      },
      "execution_count": 3,
      "outputs": [
        {
          "output_type": "stream",
          "name": "stdout",
          "text": [
            "Введите расстояние до работы в километрах =  8\n",
            "Расстояние до работы 5.0 миль\n"
          ]
        }
      ]
    }
  ]
}