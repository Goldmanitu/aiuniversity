{
  "nbformat": 4,
  "nbformat_minor": 0,
  "metadata": {
    "colab": {
      "provenance": [],
      "authorship_tag": "ABX9TyPsLZ4FTRQtSioIaflfy/c/",
      "include_colab_link": true
    },
    "kernelspec": {
      "name": "python3",
      "display_name": "Python 3"
    },
    "language_info": {
      "name": "python"
    }
  },
  "cells": [
    {
      "cell_type": "markdown",
      "metadata": {
        "id": "view-in-github",
        "colab_type": "text"
      },
      "source": [
        "<a href=\"https://colab.research.google.com/github/Goldmanitu/aiuniversity/blob/beautiful_code/0001_%D0%9A%D1%83%D1%81%D0%BA%D0%B8_%D0%BA%D1%80%D0%B0%D1%81%D0%B8%D0%B2%D0%BE%D0%B3%D0%BE_%D0%BA%D0%BE%D0%B4%D0%B0.ipynb\" target=\"_parent\"><img src=\"https://colab.research.google.com/assets/colab-badge.svg\" alt=\"Open In Colab\"/></a>"
      ]
    },
    {
      "cell_type": "code",
      "execution_count": null,
      "metadata": {
        "colab": {
          "base_uri": "https://localhost:8080/"
        },
        "id": "VME0U1gpQtLa",
        "outputId": "2fc3c364-a6c4-42b7-f930-f50ef2572b23"
      },
      "outputs": [
        {
          "output_type": "stream",
          "name": "stdout",
          "text": [
            "Введите любое число, пожалуйста: 8\n",
            "8\n",
            "<class 'str'>\n",
            "8.0 <class 'float'>\n",
            "f_number*3= 24.0\n"
          ]
        }
      ],
      "source": [
        "some_value = input('Введите любое число, пожалуйста: ')  # Запись введенной информации\n",
        "                                                        # в переменную, на выходе тип str (строка)\n",
        "print(some_value)\n",
        "print(type(some_value))\n",
        "\n",
        "f_number = float(some_value)\n",
        "print(f_number, type(f_number))\n",
        "\n",
        "print(\"f_number*3=\", f_number*3)"
      ]
    },
    {
      "cell_type": "code",
      "source": [
        "name1 = input('Введите 1 марку автомобиля - ')\n",
        "name2 = input('Введите 2 марку автомобиля - ')\n",
        "name3 = input('Введите 3 марку автомобиля - ')\n",
        "\n",
        "print(name1, name2, name3)"
      ],
      "metadata": {
        "colab": {
          "base_uri": "https://localhost:8080/"
        },
        "id": "iQAw6BSbQ4PN",
        "outputId": "4636b6c5-13f7-454c-f956-17adb251b99a"
      },
      "execution_count": null,
      "outputs": [
        {
          "output_type": "stream",
          "name": "stdout",
          "text": [
            "Введите 1 марку автомобиля - bmw\n",
            "Введите 2 марку автомобиля - gaz\n",
            "Введите 3 марку автомобиля - maz\n",
            "bmw gaz maz\n"
          ]
        }
      ]
    },
    {
      "cell_type": "code",
      "source": [
        "# ваше решение\n",
        "number_km = input('Введите расстояние до работы в километрах =  ')\n",
        "answer = f'Расстояние до работы {float(number_km)/1.6} миль'\n",
        "print(answer)\n"
      ],
      "metadata": {
        "colab": {
          "base_uri": "https://localhost:8080/"
        },
        "id": "nPg2TIDsQ8Bv",
        "outputId": "0ce9f060-8eb8-4e45-df57-d6921b977f1c"
      },
      "execution_count": null,
      "outputs": [
        {
          "output_type": "stream",
          "name": "stdout",
          "text": [
            "Введите расстояние до работы в километрах =  8\n",
            "Расстояние до работы 5.0 миль\n"
          ]
        }
      ]
    },
    {
      "cell_type": "code",
      "source": [
        "weather = input(\"Какая сейчас погода?\\nЕсли солнечно, то введи цифру '1':\\t\")\n",
        "result = \"Идем гулять!\" if weather == '1' else \"Сидим дома :(\"\n",
        "print(result)"
      ],
      "metadata": {
        "colab": {
          "base_uri": "https://localhost:8080/"
        },
        "id": "8BaCl7iGvwSi",
        "outputId": "081a1469-d91c-4c5f-ddf9-0d627e98cbe5"
      },
      "execution_count": null,
      "outputs": [
        {
          "output_type": "stream",
          "name": "stdout",
          "text": [
            "Какая сейчас погода?\n",
            "Если солнечно, то введи цифру '1':\t1\n",
            "Идем гулять!\n"
          ]
        }
      ]
    },
    {
      "cell_type": "code",
      "source": [
        "print('Вы путешествуете на корабле в поисках клада и, сбившись с пути, решаете, куда держать курс дальше...')\n",
        "\n",
        "side = input('Выберите одну из четырех сторон света для продолжения пути (север, юг, запад или восток): ').lower()\n",
        "\n",
        "if side == 'север':\n",
        "  print('Вы встретили на своем пути пиратов и потерпели поражение в битве. Игра окончена')\n",
        "elif side == 'юг':\n",
        "  print('Вы наткнулись на рифы и ваш корабль утонул. Игра окончена')\n",
        "elif side == 'запад':\n",
        "  print('На вас напал Кракен, которого кто-то выпустил. Игра окончена')\n",
        "elif side == 'восток':\n",
        "  print('Поздравляем, вы пришли к острову, на котором обнаружили клад! Игра окончена')\n",
        "else:\n",
        "  print('Вы ввели что-то не то или как-то не так')"
      ],
      "metadata": {
        "colab": {
          "base_uri": "https://localhost:8080/"
        },
        "id": "9LYB8gwGv1jB",
        "outputId": "0f8ad76b-af6f-46ed-eefd-b1e86381b71e"
      },
      "execution_count": null,
      "outputs": [
        {
          "output_type": "stream",
          "name": "stdout",
          "text": [
            "Вы путешествуете на корабле в поисках клада и, сбившись с пути, решаете, куда держать курс дальше...\n",
            "Выберите одну из четырех сторон света для продолжения пути (север, юг, запад или восток): север\n",
            "Вы встретили на своем пути пиратов и потерпели поражение в битве. Игра окончена\n"
          ]
        }
      ]
    },
    {
      "cell_type": "code",
      "source": [],
      "metadata": {
        "id": "se_nVBRu0QWL"
      },
      "execution_count": null,
      "outputs": []
    },
    {
      "cell_type": "code",
      "source": [
        "color = input(\"Введите цвет светофора: \")\n",
        "\n",
        "match color.lower():\n",
        "    case \"зеленый\":\n",
        "        print(\"Можно идти!\")\n",
        "    case \"желтый\":\n",
        "        print(\"Внимание!\")\n",
        "    case \"красный\":\n",
        "        print(\"Нельзя идти!\")\n",
        "    case _:\n",
        "        print(\"Не знаю такого цвета!\")"
      ],
      "metadata": {
        "colab": {
          "base_uri": "https://localhost:8080/"
        },
        "id": "O-PrLF2-PBhJ",
        "outputId": "e25d2029-6c3d-453a-a973-5e30e466636e"
      },
      "execution_count": null,
      "outputs": [
        {
          "output_type": "stream",
          "name": "stdout",
          "text": [
            "Введите цвет светофора: зеленый\n",
            "Можно идти!\n"
          ]
        }
      ]
    },
    {
      "cell_type": "code",
      "source": [
        "#первая функция\n",
        "def kvad():\n",
        "  i = int(input('Введите число для возведения в квадрат: '))\n",
        "  return i ** 2\n",
        "\n",
        "kvad()"
      ],
      "metadata": {
        "colab": {
          "base_uri": "https://localhost:8080/"
        },
        "id": "r2X7qtxZa1wi",
        "outputId": "50ad0700-af68-405f-fd5f-bafc57782115"
      },
      "execution_count": null,
      "outputs": [
        {
          "name": "stdout",
          "output_type": "stream",
          "text": [
            "Введите число для возведения в квадрат: 100\n"
          ]
        },
        {
          "output_type": "execute_result",
          "data": {
            "text/plain": [
              "10000"
            ]
          },
          "metadata": {},
          "execution_count": 1
        }
      ]
    },
    {
      "cell_type": "code",
      "source": [
        "def kvad(i):\n",
        "  i = int(input('Введите число для возведения в квадрат: '))\n",
        "  return i ** 2\n",
        "\n",
        "result = 100 + kvad(i)\n",
        "print(result)\n"
      ],
      "metadata": {
        "id": "86VvbAntctcJ"
      },
      "execution_count": null,
      "outputs": []
    },
    {
      "cell_type": "code",
      "source": [
        "def ager():\n",
        "  my_list = []\n",
        "  q = my_list.append(float(input('Введите первое число: ')))\n",
        "  w = my_list.append(float(input('Введите второе число: ')))\n",
        "  e = my_list.append(float(input('Введите третье число: ')))\n",
        "  sum_list = 0\n",
        "  for val in my_list:\n",
        "    sum_list += val\n",
        "  my_result = sum_list / len(my_list)\n",
        "  print('Среднее значение трех чисел: ')\n",
        "  return round(my_result, 2)\n",
        "\n",
        "ager()\n"
      ],
      "metadata": {
        "colab": {
          "base_uri": "https://localhost:8080/"
        },
        "id": "WUe7MMu1cuti",
        "outputId": "9ea409db-d684-4ef4-8bef-ce824be6d184"
      },
      "execution_count": null,
      "outputs": [
        {
          "output_type": "stream",
          "name": "stdout",
          "text": [
            "Введите первое число: 3.3\n",
            "Введите второе число: 4.5\n",
            "Введите третье число: 6.6\n",
            "Среднее значение трех чисел: \n"
          ]
        },
        {
          "output_type": "execute_result",
          "data": {
            "text/plain": [
              "4.8"
            ]
          },
          "metadata": {},
          "execution_count": 7
        }
      ]
    },
    {
      "cell_type": "code",
      "source": [
        "def ager():\n",
        "  my_list = []\n",
        "  q = my_list.append(float(input('Введите первое число: ')))\n",
        "  w = my_list.append(float(input('Введите второе число: ')))\n",
        "  e = my_list.append(float(input('Введите третье число: ')))\n",
        "  sum_list = 0\n",
        "  for val in my_list:\n",
        "    sum_list += val\n",
        "  my_result = sum_list / len(my_list)\n",
        "  print('Среднее значение трех чисел: ')\n",
        "  return f'{my_result:.2f}'\n",
        "\n",
        "ager()\n"
      ],
      "metadata": {
        "colab": {
          "base_uri": "https://localhost:8080/",
          "height": 109
        },
        "id": "1sUaIsFAZfU7",
        "outputId": "66a0afd1-9d82-4fd4-b836-3873a1ad7767"
      },
      "execution_count": null,
      "outputs": [
        {
          "output_type": "stream",
          "name": "stdout",
          "text": [
            "Введите первое число: 2.2\n",
            "Введите второе число: 6.78\n",
            "Введите третье число: 4\n",
            "Среднее значение трех чисел: \n"
          ]
        },
        {
          "output_type": "execute_result",
          "data": {
            "text/plain": [
              "'4.33'"
            ],
            "application/vnd.google.colaboratory.intrinsic+json": {
              "type": "string"
            }
          },
          "metadata": {},
          "execution_count": 1
        }
      ]
    },
    {
      "cell_type": "code",
      "source": [
        "string = \"Однажды, в студеную зимнюю пору\"\n",
        "\n",
        "volet = [\"а\", \"у\", \"о\", \"и\", \"э\", \"ы\", \"я\", \"ю\", \"е\", \"ё\"]\n",
        "cvolet = []\n",
        "for i in string.lower():\n",
        "  for y in volet:\n",
        "    if y == i:\n",
        "      cvolet.append(i)\n",
        "\n",
        "print('Количество глассных букв в строке: ', len(cvolet))\n"
      ],
      "metadata": {
        "colab": {
          "base_uri": "https://localhost:8080/"
        },
        "id": "FS5eIrebK0qo",
        "outputId": "b61c6025-085f-48b0-e2fd-1c186dd7088c"
      },
      "execution_count": 3,
      "outputs": [
        {
          "output_type": "stream",
          "name": "stdout",
          "text": [
            "Количество глассных букв в строке:  12\n"
          ]
        }
      ]
    },
    {
      "cell_type": "code",
      "source": [
        "my_dict = {'Den': 12345, 'Jin': 67890, 'Bob': 92837}\n",
        "\n",
        "def telefon(name):\n",
        "    contf = False\n",
        "    for key, value in my_dict.items():\n",
        "      key1 = key.lower().strip()\n",
        "      if key1 == name.lower().strip():\n",
        "        print(f'Телефон {name.capitalize()}: ', value)\n",
        "        contf = True\n",
        "        break\n",
        "    if not contf:\n",
        "      print(f'Контакт {name} не найден')\n",
        "\n",
        "\n",
        "\n",
        "name = input('Введите имя абонента: ')\n",
        "telefon(name)\n"
      ],
      "metadata": {
        "colab": {
          "base_uri": "https://localhost:8080/"
        },
        "id": "HgWH6dt0Wgbp",
        "outputId": "222e546a-d68c-408d-d2c9-5b2908e787c5"
      },
      "execution_count": 4,
      "outputs": [
        {
          "output_type": "stream",
          "name": "stdout",
          "text": [
            "Введите имя абонента:  bob\n",
            "Телефон  bob:  92837\n"
          ]
        }
      ]
    }
  ]
}